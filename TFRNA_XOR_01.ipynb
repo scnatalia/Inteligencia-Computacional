{
  "nbformat": 4,
  "nbformat_minor": 0,
  "metadata": {
    "colab": {
      "name": "TFRNA_X0R_01.ipynb",
      "provenance": [],
      "collapsed_sections": [],
      "include_colab_link": true
    },
    "kernelspec": {
      "name": "python3",
      "display_name": "Python 3"
    }
  },
  "cells": [
    {
      "cell_type": "markdown",
      "metadata": {
        "id": "view-in-github",
        "colab_type": "text"
      },
      "source": [
        "<a href=\"https://colab.research.google.com/github/scnatalia/Inteligencia-Computacional/blob/main/TFRNA_X0R_01.ipynb\" target=\"_parent\"><img src=\"https://colab.research.google.com/assets/colab-badge.svg\" alt=\"Open In Colab\"/></a>"
      ]
    },
    {
      "cell_type": "code",
      "metadata": {
        "colab": {
          "base_uri": "https://localhost:8080/"
        },
        "id": "pwC1VO7fYWTk",
        "outputId": "5dec9def-a899-4a95-e759-6dc4f2c138ed"
      },
      "source": [
        "import tensorflow.compat.v1 as tf\r\n",
        "tf.disable_v2_behavior()"
      ],
      "execution_count": null,
      "outputs": [
        {
          "output_type": "stream",
          "text": [
            "WARNING:tensorflow:From /usr/local/lib/python3.7/dist-packages/tensorflow/python/compat/v2_compat.py:96: disable_resource_variables (from tensorflow.python.ops.variable_scope) is deprecated and will be removed in a future version.\n",
            "Instructions for updating:\n",
            "non-resource variables are not supported in the long term\n"
          ],
          "name": "stdout"
        }
      ]
    },
    {
      "cell_type": "code",
      "metadata": {
        "id": "fNLJdGArYalX"
      },
      "source": [
        "T=1.0\r\n",
        "F=0.0\r\n",
        "bias=1.0"
      ],
      "execution_count": null,
      "outputs": []
    },
    {
      "cell_type": "code",
      "metadata": {
        "id": "nrAtuXnlY-Y_"
      },
      "source": [
        "def get_XOR_data():\r\n",
        "  X = [\r\n",
        "  [F, F, bias],\r\n",
        "  [F, T, bias], \r\n",
        "  [T, F, bias], \r\n",
        "  [T, T, bias]          \r\n",
        "  ]\r\n",
        "\r\n",
        "  Y = [\r\n",
        "  [F],\r\n",
        "  [T], \r\n",
        "  [T], \r\n",
        "  [F]          \r\n",
        "  ]\r\n",
        "\r\n",
        "  return X,Y"
      ],
      "execution_count": null,
      "outputs": []
    },
    {
      "cell_type": "code",
      "metadata": {
        "id": "eeUvORFnY711"
      },
      "source": [
        "X, Y = get_XOR_data()"
      ],
      "execution_count": null,
      "outputs": []
    },
    {
      "cell_type": "code",
      "metadata": {
        "id": "BXw3Kr4_ZPm_"
      },
      "source": [
        "W = tf.Variable(tf.random_normal([3,1]))"
      ],
      "execution_count": null,
      "outputs": []
    },
    {
      "cell_type": "code",
      "metadata": {
        "id": "h9fNhhJeZSAs"
      },
      "source": [
        "def step(x):\r\n",
        "  return tf.to_float(tf.greater(x,0))"
      ],
      "execution_count": null,
      "outputs": []
    },
    {
      "cell_type": "code",
      "metadata": {
        "colab": {
          "base_uri": "https://localhost:8080/"
        },
        "id": "ZwoFBnOeZYfA",
        "outputId": "45c40c14-5964-4e12-e222-f7981e7d50a5"
      },
      "source": [
        "f = tf.matmul(X,W)\r\n",
        "output = step(f)\r\n",
        "error = tf.subtract(Y, output)\r\n",
        "mse = tf.reduce_mean(tf.square(error))"
      ],
      "execution_count": null,
      "outputs": [
        {
          "output_type": "stream",
          "text": [
            "WARNING:tensorflow:From <ipython-input-7-9fcfb204922d>:2: to_float (from tensorflow.python.ops.math_ops) is deprecated and will be removed in a future version.\n",
            "Instructions for updating:\n",
            "Use `tf.cast` instead.\n"
          ],
          "name": "stdout"
        }
      ]
    },
    {
      "cell_type": "code",
      "metadata": {
        "id": "1w2rvN0QZcXD"
      },
      "source": [
        "delta= tf.matmul(X, error, transpose_a=True)#se define si hay un error\r\n",
        "train =tf.assign(W,tf.add(W, delta))#Se ajustanlos pesos"
      ],
      "execution_count": null,
      "outputs": []
    },
    {
      "cell_type": "code",
      "metadata": {
        "colab": {
          "base_uri": "https://localhost:8080/"
        },
        "id": "gN3KHOtBagC8",
        "outputId": "e391833d-6a3f-4812-84f9-96a750ab0325"
      },
      "source": [
        "init = tf.global_variables_initializer()\r\n",
        "with tf.Session() as sess:\r\n",
        "  sess.run(init)\r\n",
        "  err=1\r\n",
        "  epoch, max_epochs= 0,20 # epoch= itereacion\r\n",
        "  while err > 0.0 and epoch<max_epochs:\r\n",
        "    epoch +=1\r\n",
        "    err=sess.run(mse)\r\n",
        "    sess.run(train)\r\n",
        "    print('epoch:',epoch, 'mse:', err)\r\n",
        "\r\n",
        "    print(\"\\nResultado de Prueba\")\r\n",
        "    print(sess.run([output]))"
      ],
      "execution_count": null,
      "outputs": [
        {
          "output_type": "stream",
          "text": [
            "epoch: 1 mse: 0.5\n",
            "\n",
            "Resultado de Prueba\n",
            "[array([[0.],\n",
            "       [0.],\n",
            "       [1.],\n",
            "       [1.]], dtype=float32)]\n",
            "epoch: 2 mse: 0.5\n",
            "\n",
            "Resultado de Prueba\n",
            "[array([[0.],\n",
            "       [0.],\n",
            "       [0.],\n",
            "       [0.]], dtype=float32)]\n",
            "epoch: 3 mse: 0.5\n",
            "\n",
            "Resultado de Prueba\n",
            "[array([[1.],\n",
            "       [1.],\n",
            "       [1.],\n",
            "       [1.]], dtype=float32)]\n",
            "epoch: 4 mse: 0.5\n",
            "\n",
            "Resultado de Prueba\n",
            "[array([[0.],\n",
            "       [0.],\n",
            "       [0.],\n",
            "       [0.]], dtype=float32)]\n",
            "epoch: 5 mse: 0.5\n",
            "\n",
            "Resultado de Prueba\n",
            "[array([[1.],\n",
            "       [1.],\n",
            "       [1.],\n",
            "       [1.]], dtype=float32)]\n",
            "epoch: 6 mse: 0.5\n",
            "\n",
            "Resultado de Prueba\n",
            "[array([[0.],\n",
            "       [0.],\n",
            "       [0.],\n",
            "       [0.]], dtype=float32)]\n",
            "epoch: 7 mse: 0.5\n",
            "\n",
            "Resultado de Prueba\n",
            "[array([[1.],\n",
            "       [1.],\n",
            "       [1.],\n",
            "       [1.]], dtype=float32)]\n",
            "epoch: 8 mse: 0.5\n",
            "\n",
            "Resultado de Prueba\n",
            "[array([[0.],\n",
            "       [0.],\n",
            "       [0.],\n",
            "       [0.]], dtype=float32)]\n",
            "epoch: 9 mse: 0.5\n",
            "\n",
            "Resultado de Prueba\n",
            "[array([[1.],\n",
            "       [1.],\n",
            "       [1.],\n",
            "       [1.]], dtype=float32)]\n",
            "epoch: 10 mse: 0.5\n",
            "\n",
            "Resultado de Prueba\n",
            "[array([[0.],\n",
            "       [0.],\n",
            "       [0.],\n",
            "       [0.]], dtype=float32)]\n",
            "epoch: 11 mse: 0.5\n",
            "\n",
            "Resultado de Prueba\n",
            "[array([[1.],\n",
            "       [1.],\n",
            "       [1.],\n",
            "       [1.]], dtype=float32)]\n",
            "epoch: 12 mse: 0.5\n",
            "\n",
            "Resultado de Prueba\n",
            "[array([[0.],\n",
            "       [0.],\n",
            "       [0.],\n",
            "       [0.]], dtype=float32)]\n",
            "epoch: 13 mse: 0.5\n",
            "\n",
            "Resultado de Prueba\n",
            "[array([[1.],\n",
            "       [1.],\n",
            "       [1.],\n",
            "       [1.]], dtype=float32)]\n",
            "epoch: 14 mse: 0.5\n",
            "\n",
            "Resultado de Prueba\n",
            "[array([[0.],\n",
            "       [0.],\n",
            "       [0.],\n",
            "       [0.]], dtype=float32)]\n",
            "epoch: 15 mse: 0.5\n",
            "\n",
            "Resultado de Prueba\n",
            "[array([[1.],\n",
            "       [1.],\n",
            "       [1.],\n",
            "       [1.]], dtype=float32)]\n",
            "epoch: 16 mse: 0.5\n",
            "\n",
            "Resultado de Prueba\n",
            "[array([[0.],\n",
            "       [0.],\n",
            "       [0.],\n",
            "       [0.]], dtype=float32)]\n",
            "epoch: 17 mse: 0.5\n",
            "\n",
            "Resultado de Prueba\n",
            "[array([[1.],\n",
            "       [1.],\n",
            "       [1.],\n",
            "       [1.]], dtype=float32)]\n",
            "epoch: 18 mse: 0.5\n",
            "\n",
            "Resultado de Prueba\n",
            "[array([[0.],\n",
            "       [0.],\n",
            "       [0.],\n",
            "       [0.]], dtype=float32)]\n",
            "epoch: 19 mse: 0.5\n",
            "\n",
            "Resultado de Prueba\n",
            "[array([[1.],\n",
            "       [1.],\n",
            "       [1.],\n",
            "       [1.]], dtype=float32)]\n",
            "epoch: 20 mse: 0.5\n",
            "\n",
            "Resultado de Prueba\n",
            "[array([[0.],\n",
            "       [0.],\n",
            "       [0.],\n",
            "       [0.]], dtype=float32)]\n"
          ],
          "name": "stdout"
        }
      ]
    }
  ]
}
