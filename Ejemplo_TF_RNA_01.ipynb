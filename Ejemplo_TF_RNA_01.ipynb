{
  "nbformat": 4,
  "nbformat_minor": 0,
  "metadata": {
    "colab": {
      "name": "Ejemplo_TF_RNA_01.ipynb",
      "provenance": [],
      "authorship_tag": "ABX9TyPVnaVYCtKCmIkRHNAxaWl4",
      "include_colab_link": true
    },
    "kernelspec": {
      "name": "python3",
      "display_name": "Python 3"
    }
  },
  "cells": [
    {
      "cell_type": "markdown",
      "metadata": {
        "id": "view-in-github",
        "colab_type": "text"
      },
      "source": [
        "<a href=\"https://colab.research.google.com/github/scnatalia/Inteligencia-Computacional/blob/main/Ejemplo_TF_RNA_01.ipynb\" target=\"_parent\"><img src=\"https://colab.research.google.com/assets/colab-badge.svg\" alt=\"Open In Colab\"/></a>"
      ]
    },
    {
      "cell_type": "code",
      "metadata": {
        "colab": {
          "base_uri": "https://localhost:8080/"
        },
        "id": "o7MAvUAllCsT",
        "outputId": "886ca9d6-8d85-47fc-bd6c-7cd629e32187"
      },
      "source": [
        "import tensorflow.compat.v1 as tf\r\n",
        "tf.disable_v2_behavior()"
      ],
      "execution_count": 1,
      "outputs": [
        {
          "output_type": "stream",
          "text": [
            "WARNING:tensorflow:From /usr/local/lib/python3.7/dist-packages/tensorflow/python/compat/v2_compat.py:96: disable_resource_variables (from tensorflow.python.ops.variable_scope) is deprecated and will be removed in a future version.\n",
            "Instructions for updating:\n",
            "non-resource variables are not supported in the long term\n"
          ],
          "name": "stdout"
        }
      ]
    },
    {
      "cell_type": "code",
      "metadata": {
        "id": "Sdb9SsCSnG5u"
      },
      "source": [
        "T=1.0\r\n",
        "F=0.0\r\n",
        "bias=1.0"
      ],
      "execution_count": 3,
      "outputs": []
    },
    {
      "cell_type": "code",
      "metadata": {
        "id": "jCNqhHWinca6"
      },
      "source": [
        "def get_AND_data():\r\n",
        "  X = [\r\n",
        "       [F, F, bias], \r\n",
        "       [F, T, bias], \r\n",
        "       [T, F, bias], \r\n",
        "       [T, T, bias]\r\n",
        "  ]\r\n",
        "\r\n",
        "  Y = [\r\n",
        "       [F], \r\n",
        "       [F], \r\n",
        "       [F], \r\n",
        "       [T]\r\n",
        "  ]\r\n",
        "\r\n",
        "  return X, Y"
      ],
      "execution_count": 4,
      "outputs": []
    },
    {
      "cell_type": "code",
      "metadata": {
        "id": "kB4TlsBCpcgL"
      },
      "source": [
        "X, Y = get_AND_data()"
      ],
      "execution_count": 7,
      "outputs": []
    },
    {
      "cell_type": "code",
      "metadata": {
        "id": "UR_lFpruqDRB"
      },
      "source": [
        "W = tf.Variable(tf.random_normal([3,1]))"
      ],
      "execution_count": 8,
      "outputs": []
    },
    {
      "cell_type": "code",
      "metadata": {
        "colab": {
          "base_uri": "https://localhost:8080/"
        },
        "id": "yOliNldVqo-5",
        "outputId": "e853f74c-1a4a-4a7d-d39d-974659e72541"
      },
      "source": [
        "W.shape"
      ],
      "execution_count": 9,
      "outputs": [
        {
          "output_type": "execute_result",
          "data": {
            "text/plain": [
              "TensorShape([Dimension(3), Dimension(1)])"
            ]
          },
          "metadata": {
            "tags": []
          },
          "execution_count": 9
        }
      ]
    },
    {
      "cell_type": "code",
      "metadata": {
        "id": "K4i-rZm3q6Nb"
      },
      "source": [
        "def step(x):\r\n",
        "  return tf.to_float(tf.greater(x,0))"
      ],
      "execution_count": 10,
      "outputs": []
    },
    {
      "cell_type": "code",
      "metadata": {
        "id": "msTCF4M4tyit"
      },
      "source": [
        "f = tf.matmul(X,W)\r\n",
        "output = step(f)\r\n",
        "error = tf.subtract(Y, output)\r\n",
        "mse = tf.reduce_mean(tf.square(error))"
      ],
      "execution_count": 12,
      "outputs": []
    },
    {
      "cell_type": "code",
      "metadata": {
        "id": "5MeV_sY5vo5q"
      },
      "source": [
        "delta = tf.matmul(X, error, transpose_a=True)\r\n",
        "train=tf.assign(W, tf.add(W,delta))"
      ],
      "execution_count": 13,
      "outputs": []
    },
    {
      "cell_type": "code",
      "metadata": {
        "colab": {
          "base_uri": "https://localhost:8080/"
        },
        "id": "Ks8wlo0lyEdI",
        "outputId": "3a551d34-f63a-4539-e93a-49137cb7396f"
      },
      "source": [
        "init=tf.global_variables_initializer()\r\n",
        "with tf.Session() as sess:\r\n",
        "  sess.run(init)\r\n",
        "  err=1\r\n",
        "  epoch, max_epochs =0, 20\r\n",
        "  while err> 0.0 and epoch < max_epochs:\r\n",
        "    epoch += 1\r\n",
        "    err = sess.run(mse)\r\n",
        "    sess.run(train)\r\n",
        "    print('epoch:', epoch, 'mse:', err)\r\n",
        "\r\n",
        "    print(\"\\nResultado de Prueba\")\r\n",
        "    print(sess.run([output]))"
      ],
      "execution_count": 15,
      "outputs": [
        {
          "output_type": "stream",
          "text": [
            "epoch: 1 mse: 0.0\n",
            "\n",
            "Resultado de Prueba\n",
            "[array([[0.],\n",
            "       [0.],\n",
            "       [0.],\n",
            "       [1.]], dtype=float32)]\n"
          ],
          "name": "stdout"
        }
      ]
    }
  ]
}