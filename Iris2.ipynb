{
  "nbformat": 4,
  "nbformat_minor": 0,
  "metadata": {
    "colab": {
      "name": "Iris2.ipynb",
      "provenance": [],
      "mount_file_id": "1r-KCtS0K-oGN4AylQ7e6m5OJ7PCVyLm1",
      "authorship_tag": "ABX9TyP3yLg18eR0ZR6ZT9AHU1f/",
      "include_colab_link": true
    },
    "kernelspec": {
      "name": "python3",
      "display_name": "Python 3"
    },
    "language_info": {
      "name": "python"
    }
  },
  "cells": [
    {
      "cell_type": "markdown",
      "metadata": {
        "id": "view-in-github",
        "colab_type": "text"
      },
      "source": [
        "<a href=\"https://colab.research.google.com/github/scnatalia/Inteligencia-Computacional/blob/main/Iris2.ipynb\" target=\"_parent\"><img src=\"https://colab.research.google.com/assets/colab-badge.svg\" alt=\"Open In Colab\"/></a>"
      ]
    },
    {
      "cell_type": "code",
      "metadata": {
        "id": "Oq6US2vJYZ4G"
      },
      "source": [
        "from keras.models import Sequential\n",
        "from keras.layers import Dense\n",
        "from sklearn.datasets import load_iris\n",
        "from sklearn.model_selection import train_test_split\n",
        "from sklearn.preprocessing import OneHotEncoder\n",
        "from sklearn.preprocessing import MinMaxScaler\n",
        "import numpy as np\n",
        "import matplotlib.pyplot as plt"
      ],
      "execution_count": 1,
      "outputs": []
    },
    {
      "cell_type": "code",
      "metadata": {
        "id": "daV7bYz5YnR6"
      },
      "source": [
        "iris=load_iris()"
      ],
      "execution_count": 2,
      "outputs": []
    },
    {
      "cell_type": "code",
      "metadata": {
        "id": "elxlkgvFY1iG"
      },
      "source": [
        "X = iris['data']\n",
        "Y = iris['target']\n",
        "names = iris['target_names']\n",
        "feature_names = iris['feature_names']"
      ],
      "execution_count": 3,
      "outputs": []
    },
    {
      "cell_type": "code",
      "metadata": {
        "id": "BR8knqWyZDE4"
      },
      "source": [
        "# One hot encoding\n",
        "enc = OneHotEncoder()\n",
        "Y = enc.fit_transform(Y[:, np.newaxis]).toarray()"
      ],
      "execution_count": 4,
      "outputs": []
    },
    {
      "cell_type": "code",
      "metadata": {
        "id": "FXSa6naoZL8s"
      },
      "source": [
        "scaler=MinMaxScaler(feature_range=(0,1))\n",
        "X=scaler.fit_transform(X)"
      ],
      "execution_count": 5,
      "outputs": []
    },
    {
      "cell_type": "code",
      "metadata": {
        "id": "0T1Zv46pZR5K"
      },
      "source": [
        "x_train, x_test, y_train, y_test = train_test_split(X,Y,test_size=0.5)"
      ],
      "execution_count": 6,
      "outputs": []
    },
    {
      "cell_type": "code",
      "metadata": {
        "id": "sWrp-gq5ZcrH"
      },
      "source": [
        "model = Sequential()\n",
        "model.add(Dense(8, input_dim=4, activation='tanh'))\n",
        "model.add(Dense(10, activation='relu'))\n",
        "model.add(Dense(10, activation='sigmoid'))\n",
        "model.add(Dense(3, activation='softmax'))"
      ],
      "execution_count": 8,
      "outputs": []
    },
    {
      "cell_type": "code",
      "metadata": {
        "id": "ttwxFyBzZizg"
      },
      "source": [
        "model.compile(loss='binary_crossentropy',optimizer='adam',metrics=['accuracy'])"
      ],
      "execution_count": 9,
      "outputs": []
    },
    {
      "cell_type": "code",
      "metadata": {
        "id": "zSCSJrcFZ1wx"
      },
      "source": [
        "history=model.fit(x_train, y_train, validation_data=(x_test, y_test), epochs=150, batch_size=10)"
      ],
      "execution_count": null,
      "outputs": []
    },
    {
      "cell_type": "code",
      "metadata": {
        "colab": {
          "base_uri": "https://localhost:8080/"
        },
        "id": "RFb_yHPoZ9lh",
        "outputId": "1b8502cc-1d21-4b01-ac5d-65c79998c3eb"
      },
      "source": [
        "print(history.history.keys())"
      ],
      "execution_count": 11,
      "outputs": [
        {
          "output_type": "stream",
          "text": [
            "dict_keys(['loss', 'accuracy', 'val_loss', 'val_accuracy'])\n"
          ],
          "name": "stdout"
        }
      ]
    },
    {
      "cell_type": "code",
      "metadata": {
        "colab": {
          "base_uri": "https://localhost:8080/",
          "height": 295
        },
        "id": "TkgOIVHwaDnd",
        "outputId": "eb325ce6-1bba-4c6b-ad93-ffe0a301d9bf"
      },
      "source": [
        "plt.plot(history.history['accuracy'])\n",
        "plt.plot(history.history['val_accuracy'],'r--')\n",
        "plt.title('Precision del modelo')\n",
        "plt.ylabel('Precision')\n",
        "plt.xlabel('epocas')\n",
        "plt.legend(['Entrenamiento', 'test'], loc='upper left')\n",
        "plt.savefig('/content/drive/MyDrive/IC-800/Iris/Iris_bincros_trss_adam_accu.png',dpi=300) \n",
        "plt.show()"
      ],
      "execution_count": 12,
      "outputs": [
        {
          "output_type": "display_data",
          "data": {
            "image/png": "[encoded data removed]",
            "text/plain": [
              "<Figure size 432x288 with 1 Axes>"
            ]
          },
          "metadata": {
            "tags": [],
            "needs_background": "light"
          }
        }
      ]
    },
    {
      "cell_type": "code",
      "metadata": {
        "colab": {
          "base_uri": "https://localhost:8080/",
          "height": 295
        },
        "id": "BZXTE82kaNQb",
        "outputId": "adf4ff4d-cc97-4044-90d0-c2c2fb2eb19c"
      },
      "source": [
        "plt.plot(history.history['loss'])\n",
        "plt.plot(history.history['val_loss'],'r--')\n",
        "plt.title('Perdidas del modelo')\n",
        "plt.ylabel('perdidas')\n",
        "plt.xlabel('epocas')\n",
        "plt.legend(['Entrenamiento', 'test'], loc='upper left')\n",
        "plt.savefig('/content/drive/MyDrive/IC-800/Iris/Iris_bincros_trss-tanh_loss.png',dpi=300)\n",
        "plt.show()"
      ],
      "execution_count": 13,
      "outputs": [
        {
          "output_type": "display_data",
          "data": {
            "image/png": "[encoded data removed]",
            "text/plain": [
              "<Figure size 432x288 with 1 Axes>"
            ]
          },
          "metadata": {
            "tags": [],
            "needs_background": "light"
          }
        }
      ]
    },
    {
      "cell_type": "code",
      "metadata": {
        "id": "S2uC2AhgaaHH",
        "colab": {
          "base_uri": "https://localhost:8080/"
        },
        "outputId": "0553d1f5-2596-4d41-9514-f6a74e09e70c"
      },
      "source": [
        "model.summary()"
      ],
      "execution_count": 14,
      "outputs": [
        {
          "output_type": "stream",
          "text": [
            "Model: \"sequential_1\"\n",
            "_________________________________________________________________\n",
            "Layer (type)                 Output Shape              Param #   \n",
            "=================================================================\n",
            "dense_1 (Dense)              (None, 8)                 40        \n",
            "_________________________________________________________________\n",
            "dense_2 (Dense)              (None, 10)                90        \n",
            "_________________________________________________________________\n",
            "dense_3 (Dense)              (None, 10)                110       \n",
            "_________________________________________________________________\n",
            "dense_4 (Dense)              (None, 3)                 33        \n",
            "=================================================================\n",
            "Total params: 273\n",
            "Trainable params: 273\n",
            "Non-trainable params: 0\n",
            "_________________________________________________________________\n"
          ],
          "name": "stdout"
        }
      ]
    }
  ]
}